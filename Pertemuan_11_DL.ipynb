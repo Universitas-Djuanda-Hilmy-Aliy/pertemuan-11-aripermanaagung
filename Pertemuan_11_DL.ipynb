{
  "nbformat": 4,
  "nbformat_minor": 0,
  "metadata": {
    "colab": {
      "provenance": []
    },
    "kernelspec": {
      "name": "python3",
      "display_name": "Python 3"
    },
    "language_info": {
      "name": "python"
    }
  },
  "cells": [
    {
      "cell_type": "markdown",
      "source": [
        "Overfitting\n",
        "\n",
        "definisi : sebuah fenomena dimana model yang di gunakan terlalu cocok atau sesuai dengan data trainning sehingga kehilangan kemampuan untuk melakukan deteksi pada data baru ( data testing )\n",
        "\n",
        "Contoh ketika hasil trainning bagus, tp hasil testing nya buruk"
      ],
      "metadata": {
        "id": "HezfGY80EF1C"
      }
    },
    {
      "cell_type": "markdown",
      "source": [
        "**Overfitting**\n"
      ],
      "metadata": {
        "id": "oz6JRBfECJXS"
      }
    },
    {
      "cell_type": "markdown",
      "source": [
        "Beberapa karakteristik utama terjadintya overfitting \"\n",
        "1. performanaya tinggi pada data trainning, tetapi rendah di testing\n",
        "2. model yg dibuat terlalu rumit"
      ],
      "metadata": {
        "id": "ccY_YVb8CQv7"
      }
    },
    {
      "cell_type": "markdown",
      "source": [
        "Penyebab terjadinya overfitting<br>\n",
        "1. Data trainningnya terlalu sedikit\n",
        "2. datanya tidak beragam\n",
        "3. Model terlalu kompleks\n",
        "4. proses trainning terlalu lama\n"
      ],
      "metadata": {
        "id": "w29UO84qCf2q"
      }
    },
    {
      "cell_type": "markdown",
      "source": [
        "Cara mengatasi overfitting\n",
        "1. sediakan data yang banyak\n",
        "2. menggunakan dropout\n",
        "3. Cross Validation\n"
      ],
      "metadata": {
        "id": "n3lf0DFJC73y"
      }
    },
    {
      "cell_type": "markdown",
      "source": [],
      "metadata": {
        "id": "c6fn6vzXEEtU"
      }
    },
    {
      "cell_type": "code",
      "source": [
        "import matplotlib.pyplot as plt\n"
      ],
      "metadata": {
        "id": "dVvOqEp4GTf6"
      },
      "execution_count": 78,
      "outputs": []
    },
    {
      "cell_type": "code",
      "execution_count": 79,
      "metadata": {
        "id": "ikR88P-lCCX9"
      },
      "outputs": [],
      "source": [
        "from tensorflow.keras.datasets import fashion_mnist\n",
        "(train_images, train_labels), (test_images, test_labels) = fashion_mnist.load_data()"
      ]
    },
    {
      "cell_type": "code",
      "source": [
        "print(\"Ukuran Citra Train\",train_images.shape)\n",
        "print(\"Ukuran Label Train\",train_labels.shape)\n",
        "\n",
        "print(\"Ukuran Citra Test\",test_images.shape)\n",
        "print(\"Ukuran Label Test\",test_labels.shape)"
      ],
      "metadata": {
        "colab": {
          "base_uri": "https://localhost:8080/"
        },
        "id": "hSQWmIQaFvta",
        "outputId": "b93db817-42c6-4519-fc40-7908f7733ec2"
      },
      "execution_count": 80,
      "outputs": [
        {
          "output_type": "stream",
          "name": "stdout",
          "text": [
            "Ukuran Citra Train (60000, 28, 28)\n",
            "Ukuran Label Train (60000,)\n",
            "Ukuran Citra Test (10000, 28, 28)\n",
            "Ukuran Label Test (10000,)\n"
          ]
        }
      ]
    },
    {
      "cell_type": "code",
      "source": [
        "print(set(train_labels))"
      ],
      "metadata": {
        "colab": {
          "base_uri": "https://localhost:8080/"
        },
        "id": "zOu2xit5F0J5",
        "outputId": "6cc200d7-9c4a-4a37-a1a4-7967904b246a"
      },
      "execution_count": 81,
      "outputs": [
        {
          "output_type": "stream",
          "name": "stdout",
          "text": [
            "{0, 1, 2, 3, 4, 5, 6, 7, 8, 9}\n"
          ]
        }
      ]
    },
    {
      "cell_type": "code",
      "source": [
        "train_images = train_images.reshape((60000,28 * 28))\n",
        "train_images = train_images.astype(\"float32\") / 255\n",
        "\n",
        "test_images = test_images.reshape((10000,28 * 28))\n",
        "test_images = test_images.astype(\"float32\") / 255"
      ],
      "metadata": {
        "id": "rtEM-rMrF5zS"
      },
      "execution_count": 82,
      "outputs": []
    },
    {
      "cell_type": "code",
      "source": [
        "#Arsitektur modelnya\n",
        "import tensorflow as tf\n",
        "import numpy as np\n",
        "\n",
        "model = tf.keras.Sequential([\n",
        "    tf.keras.layers.Dense(512, activation = 'relu'),\n",
        "    tf.keras.layers.Dense(10,activation = 'sigmoid')\n",
        "])"
      ],
      "metadata": {
        "id": "NzM1lGssF_QK"
      },
      "execution_count": 83,
      "outputs": []
    },
    {
      "cell_type": "code",
      "source": [
        "model.compile(optimizer ='rmsprop', loss='sparse_categorical_crossentropy', metrics=['accuracy'])"
      ],
      "metadata": {
        "id": "WpPuT6l4GCYc"
      },
      "execution_count": 84,
      "outputs": []
    },
    {
      "cell_type": "code",
      "source": [
        "sampel_train_images = train_images[:100]\n",
        "sampel_train_labels = train_labels[:100]"
      ],
      "metadata": {
        "id": "PXJWMjxaG2oo"
      },
      "execution_count": 85,
      "outputs": []
    },
    {
      "cell_type": "code",
      "source": [
        "sampel_train_images.shape"
      ],
      "metadata": {
        "colab": {
          "base_uri": "https://localhost:8080/"
        },
        "id": "AqHcz9inHbrB",
        "outputId": "55678212-dadb-450a-a0a8-2b75ca69208f"
      },
      "execution_count": 86,
      "outputs": [
        {
          "output_type": "execute_result",
          "data": {
            "text/plain": [
              "(100, 784)"
            ]
          },
          "metadata": {},
          "execution_count": 86
        }
      ]
    },
    {
      "cell_type": "code",
      "source": [
        "model.fit(sampel_train_images,sampel_train_labels, epochs= 10, batch_size=128)"
      ],
      "metadata": {
        "colab": {
          "base_uri": "https://localhost:8080/"
        },
        "id": "r_vcDCB0GEfB",
        "outputId": "e16624e7-f967-4e70-a106-820cd47d6b92"
      },
      "execution_count": 87,
      "outputs": [
        {
          "output_type": "stream",
          "name": "stdout",
          "text": [
            "Epoch 1/10\n",
            "1/1 [==============================] - 0s 496ms/step - loss: 2.2461 - accuracy: 0.1300\n",
            "Epoch 2/10\n",
            "1/1 [==============================] - 0s 21ms/step - loss: 2.3060 - accuracy: 0.2600\n",
            "Epoch 3/10\n",
            "1/1 [==============================] - 0s 22ms/step - loss: 2.2989 - accuracy: 0.4100\n",
            "Epoch 4/10\n",
            "1/1 [==============================] - 0s 25ms/step - loss: 1.5358 - accuracy: 0.5900\n",
            "Epoch 5/10\n",
            "1/1 [==============================] - 0s 30ms/step - loss: 0.9829 - accuracy: 0.7300\n",
            "Epoch 6/10\n",
            "1/1 [==============================] - 0s 18ms/step - loss: 0.8557 - accuracy: 0.7100\n",
            "Epoch 7/10\n",
            "1/1 [==============================] - 0s 19ms/step - loss: 0.7380 - accuracy: 0.8300\n",
            "Epoch 8/10\n",
            "1/1 [==============================] - 0s 19ms/step - loss: 0.7089 - accuracy: 0.8400\n",
            "Epoch 9/10\n",
            "1/1 [==============================] - 0s 19ms/step - loss: 0.6222 - accuracy: 0.8300\n",
            "Epoch 10/10\n",
            "1/1 [==============================] - 0s 18ms/step - loss: 0.6633 - accuracy: 0.8400\n"
          ]
        },
        {
          "output_type": "execute_result",
          "data": {
            "text/plain": [
              "<keras.src.callbacks.History at 0x794762e2cfd0>"
            ]
          },
          "metadata": {},
          "execution_count": 87
        }
      ]
    },
    {
      "cell_type": "code",
      "source": [
        "prediksi = model(test_images)\n",
        "prediksi = prediksi.numpy() #supaya hasilnya array\n",
        "prediksi_label = np.argmax(prediksi, axis=1)\n",
        "prediksi_betul = prediksi_label = test_labels\n",
        "print(f\"akurasi hasil data test :{prediksi_betul.mean():.2f}\")"
      ],
      "metadata": {
        "colab": {
          "base_uri": "https://localhost:8080/"
        },
        "id": "lMxrUQ_RGIBh",
        "outputId": "ab3b713e-0ba7-4a74-e6a5-9584dc3613b4"
      },
      "execution_count": 88,
      "outputs": [
        {
          "output_type": "stream",
          "name": "stdout",
          "text": [
            "akurasi hasil data test :4.50\n"
          ]
        }
      ]
    },
    {
      "cell_type": "markdown",
      "source": [
        "**Pembuatan model yang lebih Deep**"
      ],
      "metadata": {
        "id": "mWmmBwQNLHvy"
      }
    },
    {
      "cell_type": "code",
      "source": [
        "#Arsitektur modelnya\n",
        "import tensorflow as tf\n",
        "import numpy as np\n",
        "\n",
        "model_kedua = tf.keras.Sequential([\n",
        "    tf.keras.layers.Dense(512, activation = 'relu'),\n",
        "    tf.keras.layers.Dropout(0.5),\n",
        "    tf.keras.layers.Dense(256, activation = 'relu'),\n",
        "    tf.keras.layers.Dropout(0.5),\n",
        "    tf.keras.layers.Dense(128, activation = 'relu'),\n",
        "    tf.keras.layers.Dense(64, activation = 'relu'),\n",
        "    tf.keras.layers.Dense(32, activation = 'relu'),\n",
        "    tf.keras.layers.Dense(10,activation = 'sigmoid')\n",
        "])"
      ],
      "metadata": {
        "id": "iYv3cN3mK1pJ"
      },
      "execution_count": 92,
      "outputs": []
    },
    {
      "cell_type": "code",
      "source": [
        "model_kedua.compile(optimizer ='rmsprop', loss='sparse_categorical_crossentropy', metrics=['accuracy'])"
      ],
      "metadata": {
        "id": "CsW3jN4kMr15"
      },
      "execution_count": 90,
      "outputs": []
    },
    {
      "cell_type": "code",
      "source": [
        "model_kedua.summary()"
      ],
      "metadata": {
        "colab": {
          "base_uri": "https://localhost:8080/",
          "height": 298
        },
        "id": "R9Y2WILZPMPo",
        "outputId": "5ea492f3-0e75-422a-de98-1a160d960c00"
      },
      "execution_count": 95,
      "outputs": [
        {
          "output_type": "error",
          "ename": "ValueError",
          "evalue": "ignored",
          "traceback": [
            "\u001b[0;31m---------------------------------------------------------------------------\u001b[0m",
            "\u001b[0;31mValueError\u001b[0m                                Traceback (most recent call last)",
            "\u001b[0;32m<ipython-input-95-8f9d527d4370>\u001b[0m in \u001b[0;36m<cell line: 1>\u001b[0;34m()\u001b[0m\n\u001b[0;32m----> 1\u001b[0;31m \u001b[0mmodel_kedua\u001b[0m\u001b[0;34m.\u001b[0m\u001b[0msummary\u001b[0m\u001b[0;34m(\u001b[0m\u001b[0;34m)\u001b[0m\u001b[0;34m\u001b[0m\u001b[0;34m\u001b[0m\u001b[0m\n\u001b[0m",
            "\u001b[0;32m/usr/local/lib/python3.10/dist-packages/keras/src/engine/training.py\u001b[0m in \u001b[0;36msummary\u001b[0;34m(self, line_length, positions, print_fn, expand_nested, show_trainable, layer_range)\u001b[0m\n\u001b[1;32m   3504\u001b[0m         \"\"\"\n\u001b[1;32m   3505\u001b[0m         \u001b[0;32mif\u001b[0m \u001b[0;32mnot\u001b[0m \u001b[0mself\u001b[0m\u001b[0;34m.\u001b[0m\u001b[0mbuilt\u001b[0m\u001b[0;34m:\u001b[0m\u001b[0;34m\u001b[0m\u001b[0;34m\u001b[0m\u001b[0m\n\u001b[0;32m-> 3506\u001b[0;31m             raise ValueError(\n\u001b[0m\u001b[1;32m   3507\u001b[0m                 \u001b[0;34m\"This model has not yet been built. \"\u001b[0m\u001b[0;34m\u001b[0m\u001b[0;34m\u001b[0m\u001b[0m\n\u001b[1;32m   3508\u001b[0m                 \u001b[0;34m\"Build the model first by calling `build()` or by calling \"\u001b[0m\u001b[0;34m\u001b[0m\u001b[0;34m\u001b[0m\u001b[0m\n",
            "\u001b[0;31mValueError\u001b[0m: This model has not yet been built. Build the model first by calling `build()` or by calling the model on a batch of data."
          ]
        }
      ]
    },
    {
      "cell_type": "code",
      "source": [
        "model_kedua.fit(train_images,train_labels, epochs= 10, batch_size=256)"
      ],
      "metadata": {
        "colab": {
          "base_uri": "https://localhost:8080/",
          "height": 322
        },
        "id": "hooEmIJsMx5v",
        "outputId": "3aeef8cc-291b-49b9-ddfd-04012c25962d"
      },
      "execution_count": 94,
      "outputs": [
        {
          "output_type": "error",
          "ename": "RuntimeError",
          "evalue": "ignored",
          "traceback": [
            "\u001b[0;31m---------------------------------------------------------------------------\u001b[0m",
            "\u001b[0;31mRuntimeError\u001b[0m                              Traceback (most recent call last)",
            "\u001b[0;32m<ipython-input-94-57bb9c903e5c>\u001b[0m in \u001b[0;36m<cell line: 1>\u001b[0;34m()\u001b[0m\n\u001b[0;32m----> 1\u001b[0;31m \u001b[0mmodel_kedua\u001b[0m\u001b[0;34m.\u001b[0m\u001b[0mfit\u001b[0m\u001b[0;34m(\u001b[0m\u001b[0mtrain_images\u001b[0m\u001b[0;34m,\u001b[0m\u001b[0mtrain_labels\u001b[0m\u001b[0;34m,\u001b[0m \u001b[0mepochs\u001b[0m\u001b[0;34m=\u001b[0m \u001b[0;36m10\u001b[0m\u001b[0;34m,\u001b[0m \u001b[0mbatch_size\u001b[0m\u001b[0;34m=\u001b[0m\u001b[0;36m256\u001b[0m\u001b[0;34m)\u001b[0m\u001b[0;34m\u001b[0m\u001b[0;34m\u001b[0m\u001b[0m\n\u001b[0m",
            "\u001b[0;32m/usr/local/lib/python3.10/dist-packages/keras/src/utils/traceback_utils.py\u001b[0m in \u001b[0;36merror_handler\u001b[0;34m(*args, **kwargs)\u001b[0m\n\u001b[1;32m     68\u001b[0m             \u001b[0;31m# To get the full stack trace, call:\u001b[0m\u001b[0;34m\u001b[0m\u001b[0;34m\u001b[0m\u001b[0m\n\u001b[1;32m     69\u001b[0m             \u001b[0;31m# `tf.debugging.disable_traceback_filtering()`\u001b[0m\u001b[0;34m\u001b[0m\u001b[0;34m\u001b[0m\u001b[0m\n\u001b[0;32m---> 70\u001b[0;31m             \u001b[0;32mraise\u001b[0m \u001b[0me\u001b[0m\u001b[0;34m.\u001b[0m\u001b[0mwith_traceback\u001b[0m\u001b[0;34m(\u001b[0m\u001b[0mfiltered_tb\u001b[0m\u001b[0;34m)\u001b[0m \u001b[0;32mfrom\u001b[0m \u001b[0;32mNone\u001b[0m\u001b[0;34m\u001b[0m\u001b[0;34m\u001b[0m\u001b[0m\n\u001b[0m\u001b[1;32m     71\u001b[0m         \u001b[0;32mfinally\u001b[0m\u001b[0;34m:\u001b[0m\u001b[0;34m\u001b[0m\u001b[0;34m\u001b[0m\u001b[0m\n\u001b[1;32m     72\u001b[0m             \u001b[0;32mdel\u001b[0m \u001b[0mfiltered_tb\u001b[0m\u001b[0;34m\u001b[0m\u001b[0;34m\u001b[0m\u001b[0m\n",
            "\u001b[0;32m/usr/local/lib/python3.10/dist-packages/keras/src/engine/training.py\u001b[0m in \u001b[0;36m_assert_compile_was_called\u001b[0;34m(self)\u001b[0m\n\u001b[1;32m   3981\u001b[0m         \u001b[0;31m# (i.e. whether the model is built and its inputs/outputs are set).\u001b[0m\u001b[0;34m\u001b[0m\u001b[0;34m\u001b[0m\u001b[0m\n\u001b[1;32m   3982\u001b[0m         \u001b[0;32mif\u001b[0m \u001b[0;32mnot\u001b[0m \u001b[0mself\u001b[0m\u001b[0;34m.\u001b[0m\u001b[0m_is_compiled\u001b[0m\u001b[0;34m:\u001b[0m\u001b[0;34m\u001b[0m\u001b[0;34m\u001b[0m\u001b[0m\n\u001b[0;32m-> 3983\u001b[0;31m             raise RuntimeError(\n\u001b[0m\u001b[1;32m   3984\u001b[0m                 \u001b[0;34m\"You must compile your model before \"\u001b[0m\u001b[0;34m\u001b[0m\u001b[0;34m\u001b[0m\u001b[0m\n\u001b[1;32m   3985\u001b[0m                 \u001b[0;34m\"training/testing. \"\u001b[0m\u001b[0;34m\u001b[0m\u001b[0;34m\u001b[0m\u001b[0m\n",
            "\u001b[0;31mRuntimeError\u001b[0m: You must compile your model before training/testing. Use `model.compile(optimizer, loss)`."
          ]
        }
      ]
    },
    {
      "cell_type": "code",
      "source": [
        "prediksi = model_kedua(test_images)\n",
        "prediksi = prediksi.numpy() #supaya hasilnya array\n",
        "prediksi_label = np.argmax(prediksi, axis=1)\n",
        "prediksi_betul = prediksi_label = test_labels\n",
        "print(f\"akurasi hasil data test :{prediksi_betul.mean():.2f}\")"
      ],
      "metadata": {
        "id": "H_WRuZ0gPjQI"
      },
      "execution_count": null,
      "outputs": []
    },
    {
      "cell_type": "markdown",
      "source": [
        "Tujuan dropout adalah untuk mencegah terjadinya overfitting."
      ],
      "metadata": {
        "id": "tqCM6Ck1QOnI"
      }
    },
    {
      "cell_type": "code",
      "source": [
        "model.kedua.save('model_By_ari.h5')"
      ],
      "metadata": {
        "id": "54igMXdyPkwQ"
      },
      "execution_count": null,
      "outputs": []
    }
  ]
}